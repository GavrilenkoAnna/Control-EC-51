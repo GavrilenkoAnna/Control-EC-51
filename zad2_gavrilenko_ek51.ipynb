{
 "cells": [
  {
   "cell_type": "markdown",
   "metadata": {},
   "source": [
    "# Data Preprocessing"
   ]
  },
  {
   "cell_type": "markdown",
   "metadata": {},
   "source": [
    " Исходный датасет имеет 5 переменных.\n",
    "На первом этапе осуществим подготовку данных. Сперва импортируем необходимые библиотеки, вторым шагом загрузим файл с данными в формате csv."
   ]
  },
  {
   "cell_type": "code",
   "execution_count": 81,
   "metadata": {},
   "outputs": [],
   "source": [
    "# Importing the libraries\n",
    "import numpy as np\n",
    "import matplotlib.pyplot as plt\n",
    "import pandas as pd"
   ]
  },
  {
   "cell_type": "code",
   "execution_count": 82,
   "metadata": {},
   "outputs": [],
   "source": [
    "# Importing the dataset\n",
    "df = pd.read_csv('zad2.csv', sep=',')"
   ]
  },
  {
   "cell_type": "markdown",
   "metadata": {},
   "source": [
    "Для наглядности выведем импортрованнные данные на экран; убедимся, что всё загрузилось должным образом. Имеем 5 столбцов, 400 строк."
   ]
  },
  {
   "cell_type": "code",
   "execution_count": 83,
   "metadata": {},
   "outputs": [
    {
     "data": {
      "text/html": [
       "<div>\n",
       "<style scoped>\n",
       "    .dataframe tbody tr th:only-of-type {\n",
       "        vertical-align: middle;\n",
       "    }\n",
       "\n",
       "    .dataframe tbody tr th {\n",
       "        vertical-align: top;\n",
       "    }\n",
       "\n",
       "    .dataframe thead th {\n",
       "        text-align: right;\n",
       "    }\n",
       "</style>\n",
       "<table border=\"1\" class=\"dataframe\">\n",
       "  <thead>\n",
       "    <tr style=\"text-align: right;\">\n",
       "      <th></th>\n",
       "      <th>UserID</th>\n",
       "      <th>Gender</th>\n",
       "      <th>Age</th>\n",
       "      <th>EstimatedSalary</th>\n",
       "      <th>Purchased</th>\n",
       "    </tr>\n",
       "  </thead>\n",
       "  <tbody>\n",
       "    <tr>\n",
       "      <th>0</th>\n",
       "      <td>15624510</td>\n",
       "      <td>Male</td>\n",
       "      <td>19</td>\n",
       "      <td>19000</td>\n",
       "      <td>0</td>\n",
       "    </tr>\n",
       "    <tr>\n",
       "      <th>1</th>\n",
       "      <td>15810944</td>\n",
       "      <td>Male</td>\n",
       "      <td>35</td>\n",
       "      <td>20000</td>\n",
       "      <td>0</td>\n",
       "    </tr>\n",
       "    <tr>\n",
       "      <th>2</th>\n",
       "      <td>15668575</td>\n",
       "      <td>Female</td>\n",
       "      <td>26</td>\n",
       "      <td>43000</td>\n",
       "      <td>0</td>\n",
       "    </tr>\n",
       "    <tr>\n",
       "      <th>3</th>\n",
       "      <td>15603246</td>\n",
       "      <td>Female</td>\n",
       "      <td>27</td>\n",
       "      <td>57000</td>\n",
       "      <td>0</td>\n",
       "    </tr>\n",
       "    <tr>\n",
       "      <th>4</th>\n",
       "      <td>15804002</td>\n",
       "      <td>Male</td>\n",
       "      <td>19</td>\n",
       "      <td>76000</td>\n",
       "      <td>0</td>\n",
       "    </tr>\n",
       "    <tr>\n",
       "      <th>...</th>\n",
       "      <td>...</td>\n",
       "      <td>...</td>\n",
       "      <td>...</td>\n",
       "      <td>...</td>\n",
       "      <td>...</td>\n",
       "    </tr>\n",
       "    <tr>\n",
       "      <th>395</th>\n",
       "      <td>15691863</td>\n",
       "      <td>Female</td>\n",
       "      <td>46</td>\n",
       "      <td>41000</td>\n",
       "      <td>1</td>\n",
       "    </tr>\n",
       "    <tr>\n",
       "      <th>396</th>\n",
       "      <td>15706071</td>\n",
       "      <td>Male</td>\n",
       "      <td>51</td>\n",
       "      <td>23000</td>\n",
       "      <td>1</td>\n",
       "    </tr>\n",
       "    <tr>\n",
       "      <th>397</th>\n",
       "      <td>15654296</td>\n",
       "      <td>Female</td>\n",
       "      <td>50</td>\n",
       "      <td>20000</td>\n",
       "      <td>1</td>\n",
       "    </tr>\n",
       "    <tr>\n",
       "      <th>398</th>\n",
       "      <td>15755018</td>\n",
       "      <td>Male</td>\n",
       "      <td>36</td>\n",
       "      <td>33000</td>\n",
       "      <td>0</td>\n",
       "    </tr>\n",
       "    <tr>\n",
       "      <th>399</th>\n",
       "      <td>15594041</td>\n",
       "      <td>Female</td>\n",
       "      <td>49</td>\n",
       "      <td>36000</td>\n",
       "      <td>1</td>\n",
       "    </tr>\n",
       "  </tbody>\n",
       "</table>\n",
       "<p>400 rows × 5 columns</p>\n",
       "</div>"
      ],
      "text/plain": [
       "       UserID  Gender  Age  EstimatedSalary  Purchased\n",
       "0    15624510    Male   19            19000          0\n",
       "1    15810944    Male   35            20000          0\n",
       "2    15668575  Female   26            43000          0\n",
       "3    15603246  Female   27            57000          0\n",
       "4    15804002    Male   19            76000          0\n",
       "..        ...     ...  ...              ...        ...\n",
       "395  15691863  Female   46            41000          1\n",
       "396  15706071    Male   51            23000          1\n",
       "397  15654296  Female   50            20000          1\n",
       "398  15755018    Male   36            33000          0\n",
       "399  15594041  Female   49            36000          1\n",
       "\n",
       "[400 rows x 5 columns]"
      ]
     },
     "execution_count": 83,
     "metadata": {},
     "output_type": "execute_result"
    }
   ],
   "source": [
    "df"
   ]
  },
  {
   "cell_type": "markdown",
   "metadata": {},
   "source": [
    "Построим графики распределения функций. "
   ]
  },
  {
   "cell_type": "code",
   "execution_count": 84,
   "metadata": {
    "scrolled": true
   },
   "outputs": [
    {
     "name": "stderr",
     "output_type": "stream",
     "text": [
      "C:\\Users\\User\\anaconda3\\envs\\tensorflow_env\\lib\\site-packages\\seaborn\\axisgrid.py:1912: UserWarning: The `size` parameter has been renamed to `height`; please update your code.\n",
      "  warnings.warn(msg, UserWarning)\n"
     ]
    },
    {
     "data": {
      "image/png": "[encoded data removed]",
      "text/plain": [
       "<Figure size 720x720 with 20 Axes>"
      ]
     },
     "metadata": {},
     "output_type": "display_data"
    }
   ],
   "source": [
    "# Features distribution\n",
    "import seaborn as sns\n",
    "sns.set()\n",
    "sns.pairplot(df, size = 2.5)\n",
    "plt.show();"
   ]
  },
  {
   "cell_type": "markdown",
   "metadata": {},
   "source": [
    "Выведем статистику по числовым переменным, где сразу увидим, что в переменных отсутствуют пропущенные значения."
   ]
  },
  {
   "cell_type": "code",
   "execution_count": 14,
   "metadata": {
    "scrolled": true
   },
   "outputs": [
    {
     "data": {
      "text/html": [
       "<div>\n",
       "<style scoped>\n",
       "    .dataframe tbody tr th:only-of-type {\n",
       "        vertical-align: middle;\n",
       "    }\n",
       "\n",
       "    .dataframe tbody tr th {\n",
       "        vertical-align: top;\n",
       "    }\n",
       "\n",
       "    .dataframe thead th {\n",
       "        text-align: right;\n",
       "    }\n",
       "</style>\n",
       "<table border=\"1\" class=\"dataframe\">\n",
       "  <thead>\n",
       "    <tr style=\"text-align: right;\">\n",
       "      <th></th>\n",
       "      <th>UserID</th>\n",
       "      <th>Age</th>\n",
       "      <th>EstimatedSalary</th>\n",
       "      <th>Purchased</th>\n",
       "    </tr>\n",
       "  </thead>\n",
       "  <tbody>\n",
       "    <tr>\n",
       "      <th>count</th>\n",
       "      <td>4.000000e+02</td>\n",
       "      <td>400.000000</td>\n",
       "      <td>400.000000</td>\n",
       "      <td>400.000000</td>\n",
       "    </tr>\n",
       "    <tr>\n",
       "      <th>mean</th>\n",
       "      <td>1.569154e+07</td>\n",
       "      <td>37.655000</td>\n",
       "      <td>69742.500000</td>\n",
       "      <td>0.357500</td>\n",
       "    </tr>\n",
       "    <tr>\n",
       "      <th>std</th>\n",
       "      <td>7.165832e+04</td>\n",
       "      <td>10.482877</td>\n",
       "      <td>34096.960282</td>\n",
       "      <td>0.479864</td>\n",
       "    </tr>\n",
       "    <tr>\n",
       "      <th>min</th>\n",
       "      <td>1.556669e+07</td>\n",
       "      <td>18.000000</td>\n",
       "      <td>15000.000000</td>\n",
       "      <td>0.000000</td>\n",
       "    </tr>\n",
       "    <tr>\n",
       "      <th>25%</th>\n",
       "      <td>1.562676e+07</td>\n",
       "      <td>29.750000</td>\n",
       "      <td>43000.000000</td>\n",
       "      <td>0.000000</td>\n",
       "    </tr>\n",
       "    <tr>\n",
       "      <th>50%</th>\n",
       "      <td>1.569434e+07</td>\n",
       "      <td>37.000000</td>\n",
       "      <td>70000.000000</td>\n",
       "      <td>0.000000</td>\n",
       "    </tr>\n",
       "    <tr>\n",
       "      <th>75%</th>\n",
       "      <td>1.575036e+07</td>\n",
       "      <td>46.000000</td>\n",
       "      <td>88000.000000</td>\n",
       "      <td>1.000000</td>\n",
       "    </tr>\n",
       "    <tr>\n",
       "      <th>max</th>\n",
       "      <td>1.581524e+07</td>\n",
       "      <td>60.000000</td>\n",
       "      <td>150000.000000</td>\n",
       "      <td>1.000000</td>\n",
       "    </tr>\n",
       "  </tbody>\n",
       "</table>\n",
       "</div>"
      ],
      "text/plain": [
       "             UserID         Age  EstimatedSalary   Purchased\n",
       "count  4.000000e+02  400.000000       400.000000  400.000000\n",
       "mean   1.569154e+07   37.655000     69742.500000    0.357500\n",
       "std    7.165832e+04   10.482877     34096.960282    0.479864\n",
       "min    1.556669e+07   18.000000     15000.000000    0.000000\n",
       "25%    1.562676e+07   29.750000     43000.000000    0.000000\n",
       "50%    1.569434e+07   37.000000     70000.000000    0.000000\n",
       "75%    1.575036e+07   46.000000     88000.000000    1.000000\n",
       "max    1.581524e+07   60.000000    150000.000000    1.000000"
      ]
     },
     "execution_count": 14,
     "metadata": {},
     "output_type": "execute_result"
    }
   ],
   "source": [
    "df.describe()"
   ]
  },
  {
   "cell_type": "markdown",
   "metadata": {},
   "source": [
    "Осуществим работы с выбросами в числовых переменных: для этого запишем функцию для поиска и замены данных, выходящих за пределы 3 сигма. "
   ]
  },
  {
   "cell_type": "code",
   "execution_count": 15,
   "metadata": {},
   "outputs": [],
   "source": [
    "# Function Outliers\n",
    "def outliers(df):\n",
    "    num_var = list(df._get_numeric_data().columns)\n",
    "    for col_names in num_var:\n",
    "        df[col_names] = df[col_names].apply(lambda y: df[col_names].mean()-3*df[col_names].std() \n",
    "                            if y < df[col_names].mean()-3*df[col_names].std() else y)\n",
    "        df[col_names] = df[col_names].apply(lambda y: df[col_names].mean()+3*df[col_names].std() \n",
    "                            if y > df[col_names].mean()+3*df[col_names].std() else y)\n",
    "    return(df)"
   ]
  },
  {
   "cell_type": "markdown",
   "metadata": {},
   "source": [
    "Запишем в наш датафрейм уже очищенные от  выбросов переменные и повторно выведем статистику.\n",
    "В результате выполнения очистки можно наблядать, что показатели максимального, минимального, среднего значений, а также стандартного отклонения прктически не изменились и соответствуют нормальному распределению, что говорит об отсутствии выбросов."
   ]
  },
  {
   "cell_type": "code",
   "execution_count": 85,
   "metadata": {},
   "outputs": [
    {
     "data": {
      "text/html": [
       "<div>\n",
       "<style scoped>\n",
       "    .dataframe tbody tr th:only-of-type {\n",
       "        vertical-align: middle;\n",
       "    }\n",
       "\n",
       "    .dataframe tbody tr th {\n",
       "        vertical-align: top;\n",
       "    }\n",
       "\n",
       "    .dataframe thead th {\n",
       "        text-align: right;\n",
       "    }\n",
       "</style>\n",
       "<table border=\"1\" class=\"dataframe\">\n",
       "  <thead>\n",
       "    <tr style=\"text-align: right;\">\n",
       "      <th></th>\n",
       "      <th>UserID</th>\n",
       "      <th>Age</th>\n",
       "      <th>EstimatedSalary</th>\n",
       "      <th>Purchased</th>\n",
       "    </tr>\n",
       "  </thead>\n",
       "  <tbody>\n",
       "    <tr>\n",
       "      <th>count</th>\n",
       "      <td>4.000000e+02</td>\n",
       "      <td>400.000000</td>\n",
       "      <td>400.000000</td>\n",
       "      <td>400.000000</td>\n",
       "    </tr>\n",
       "    <tr>\n",
       "      <th>mean</th>\n",
       "      <td>1.569154e+07</td>\n",
       "      <td>37.655000</td>\n",
       "      <td>69742.500000</td>\n",
       "      <td>0.357500</td>\n",
       "    </tr>\n",
       "    <tr>\n",
       "      <th>std</th>\n",
       "      <td>7.165832e+04</td>\n",
       "      <td>10.482877</td>\n",
       "      <td>34096.960282</td>\n",
       "      <td>0.479864</td>\n",
       "    </tr>\n",
       "    <tr>\n",
       "      <th>min</th>\n",
       "      <td>1.556669e+07</td>\n",
       "      <td>18.000000</td>\n",
       "      <td>15000.000000</td>\n",
       "      <td>0.000000</td>\n",
       "    </tr>\n",
       "    <tr>\n",
       "      <th>25%</th>\n",
       "      <td>1.562676e+07</td>\n",
       "      <td>29.750000</td>\n",
       "      <td>43000.000000</td>\n",
       "      <td>0.000000</td>\n",
       "    </tr>\n",
       "    <tr>\n",
       "      <th>50%</th>\n",
       "      <td>1.569434e+07</td>\n",
       "      <td>37.000000</td>\n",
       "      <td>70000.000000</td>\n",
       "      <td>0.000000</td>\n",
       "    </tr>\n",
       "    <tr>\n",
       "      <th>75%</th>\n",
       "      <td>1.575036e+07</td>\n",
       "      <td>46.000000</td>\n",
       "      <td>88000.000000</td>\n",
       "      <td>1.000000</td>\n",
       "    </tr>\n",
       "    <tr>\n",
       "      <th>max</th>\n",
       "      <td>1.581524e+07</td>\n",
       "      <td>60.000000</td>\n",
       "      <td>150000.000000</td>\n",
       "      <td>1.000000</td>\n",
       "    </tr>\n",
       "  </tbody>\n",
       "</table>\n",
       "</div>"
      ],
      "text/plain": [
       "             UserID         Age  EstimatedSalary   Purchased\n",
       "count  4.000000e+02  400.000000       400.000000  400.000000\n",
       "mean   1.569154e+07   37.655000     69742.500000    0.357500\n",
       "std    7.165832e+04   10.482877     34096.960282    0.479864\n",
       "min    1.556669e+07   18.000000     15000.000000    0.000000\n",
       "25%    1.562676e+07   29.750000     43000.000000    0.000000\n",
       "50%    1.569434e+07   37.000000     70000.000000    0.000000\n",
       "75%    1.575036e+07   46.000000     88000.000000    1.000000\n",
       "max    1.581524e+07   60.000000    150000.000000    1.000000"
      ]
     },
     "execution_count": 85,
     "metadata": {},
     "output_type": "execute_result"
    }
   ],
   "source": [
    "# Outliers\n",
    "df = outliers(df)\n",
    "df.describe()"
   ]
  },
  {
   "cell_type": "markdown",
   "metadata": {},
   "source": [
    "Проведем проверку типов данных по переменным и выявим соответствие."
   ]
  },
  {
   "cell_type": "code",
   "execution_count": 86,
   "metadata": {},
   "outputs": [
    {
     "data": {
      "text/plain": [
       "UserID              int64\n",
       "Gender             object\n",
       "Age                 int64\n",
       "EstimatedSalary     int64\n",
       "Purchased           int64\n",
       "dtype: object"
      ]
     },
     "execution_count": 86,
     "metadata": {},
     "output_type": "execute_result"
    }
   ],
   "source": [
    "df.dtypes"
   ]
  },
  {
   "cell_type": "markdown",
   "metadata": {},
   "source": [
    "Следующим этапом подготовки данных будет проверка на наличие пропущенных значений.\n",
    "Выведем общее количество и процент пропусков по переменным. Как было указано ранее, пропуски отсутствуют."
   ]
  },
  {
   "cell_type": "code",
   "execution_count": 87,
   "metadata": {},
   "outputs": [
    {
     "data": {
      "text/html": [
       "<div>\n",
       "<style scoped>\n",
       "    .dataframe tbody tr th:only-of-type {\n",
       "        vertical-align: middle;\n",
       "    }\n",
       "\n",
       "    .dataframe tbody tr th {\n",
       "        vertical-align: top;\n",
       "    }\n",
       "\n",
       "    .dataframe thead th {\n",
       "        text-align: right;\n",
       "    }\n",
       "</style>\n",
       "<table border=\"1\" class=\"dataframe\">\n",
       "  <thead>\n",
       "    <tr style=\"text-align: right;\">\n",
       "      <th></th>\n",
       "      <th>Total</th>\n",
       "      <th>Percent</th>\n",
       "    </tr>\n",
       "  </thead>\n",
       "  <tbody>\n",
       "    <tr>\n",
       "      <th>Purchased</th>\n",
       "      <td>0</td>\n",
       "      <td>0.0</td>\n",
       "    </tr>\n",
       "    <tr>\n",
       "      <th>EstimatedSalary</th>\n",
       "      <td>0</td>\n",
       "      <td>0.0</td>\n",
       "    </tr>\n",
       "    <tr>\n",
       "      <th>Age</th>\n",
       "      <td>0</td>\n",
       "      <td>0.0</td>\n",
       "    </tr>\n",
       "    <tr>\n",
       "      <th>Gender</th>\n",
       "      <td>0</td>\n",
       "      <td>0.0</td>\n",
       "    </tr>\n",
       "    <tr>\n",
       "      <th>UserID</th>\n",
       "      <td>0</td>\n",
       "      <td>0.0</td>\n",
       "    </tr>\n",
       "  </tbody>\n",
       "</table>\n",
       "</div>"
      ],
      "text/plain": [
       "                 Total  Percent\n",
       "Purchased            0      0.0\n",
       "EstimatedSalary      0      0.0\n",
       "Age                  0      0.0\n",
       "Gender               0      0.0\n",
       "UserID               0      0.0"
      ]
     },
     "execution_count": 87,
     "metadata": {},
     "output_type": "execute_result"
    }
   ],
   "source": [
    "# Cheking Missing data\n",
    "total = df.isnull().sum().sort_values(ascending=False)\n",
    "percent = (df.isnull().sum()/df.isnull().count()).sort_values(ascending=False)\n",
    "missing_data = pd.concat([total, percent], axis=1, keys=['Total', 'Percent'])\n",
    "missing_data"
   ]
  },
  {
   "cell_type": "markdown",
   "metadata": {},
   "source": [
    "Повторно выведем статистику и убедимся, что данные подготовлены и могут использоваться для моделирования."
   ]
  },
  {
   "cell_type": "code",
   "execution_count": 22,
   "metadata": {},
   "outputs": [
    {
     "data": {
      "text/html": [
       "<div>\n",
       "<style scoped>\n",
       "    .dataframe tbody tr th:only-of-type {\n",
       "        vertical-align: middle;\n",
       "    }\n",
       "\n",
       "    .dataframe tbody tr th {\n",
       "        vertical-align: top;\n",
       "    }\n",
       "\n",
       "    .dataframe thead th {\n",
       "        text-align: right;\n",
       "    }\n",
       "</style>\n",
       "<table border=\"1\" class=\"dataframe\">\n",
       "  <thead>\n",
       "    <tr style=\"text-align: right;\">\n",
       "      <th></th>\n",
       "      <th>UserID</th>\n",
       "      <th>Age</th>\n",
       "      <th>EstimatedSalary</th>\n",
       "      <th>Purchased</th>\n",
       "    </tr>\n",
       "  </thead>\n",
       "  <tbody>\n",
       "    <tr>\n",
       "      <th>count</th>\n",
       "      <td>4.000000e+02</td>\n",
       "      <td>400.000000</td>\n",
       "      <td>400.000000</td>\n",
       "      <td>400.000000</td>\n",
       "    </tr>\n",
       "    <tr>\n",
       "      <th>mean</th>\n",
       "      <td>1.569154e+07</td>\n",
       "      <td>37.655000</td>\n",
       "      <td>69742.500000</td>\n",
       "      <td>0.357500</td>\n",
       "    </tr>\n",
       "    <tr>\n",
       "      <th>std</th>\n",
       "      <td>7.165832e+04</td>\n",
       "      <td>10.482877</td>\n",
       "      <td>34096.960282</td>\n",
       "      <td>0.479864</td>\n",
       "    </tr>\n",
       "    <tr>\n",
       "      <th>min</th>\n",
       "      <td>1.556669e+07</td>\n",
       "      <td>18.000000</td>\n",
       "      <td>15000.000000</td>\n",
       "      <td>0.000000</td>\n",
       "    </tr>\n",
       "    <tr>\n",
       "      <th>25%</th>\n",
       "      <td>1.562676e+07</td>\n",
       "      <td>29.750000</td>\n",
       "      <td>43000.000000</td>\n",
       "      <td>0.000000</td>\n",
       "    </tr>\n",
       "    <tr>\n",
       "      <th>50%</th>\n",
       "      <td>1.569434e+07</td>\n",
       "      <td>37.000000</td>\n",
       "      <td>70000.000000</td>\n",
       "      <td>0.000000</td>\n",
       "    </tr>\n",
       "    <tr>\n",
       "      <th>75%</th>\n",
       "      <td>1.575036e+07</td>\n",
       "      <td>46.000000</td>\n",
       "      <td>88000.000000</td>\n",
       "      <td>1.000000</td>\n",
       "    </tr>\n",
       "    <tr>\n",
       "      <th>max</th>\n",
       "      <td>1.581524e+07</td>\n",
       "      <td>60.000000</td>\n",
       "      <td>150000.000000</td>\n",
       "      <td>1.000000</td>\n",
       "    </tr>\n",
       "  </tbody>\n",
       "</table>\n",
       "</div>"
      ],
      "text/plain": [
       "             UserID         Age  EstimatedSalary   Purchased\n",
       "count  4.000000e+02  400.000000       400.000000  400.000000\n",
       "mean   1.569154e+07   37.655000     69742.500000    0.357500\n",
       "std    7.165832e+04   10.482877     34096.960282    0.479864\n",
       "min    1.556669e+07   18.000000     15000.000000    0.000000\n",
       "25%    1.562676e+07   29.750000     43000.000000    0.000000\n",
       "50%    1.569434e+07   37.000000     70000.000000    0.000000\n",
       "75%    1.575036e+07   46.000000     88000.000000    1.000000\n",
       "max    1.581524e+07   60.000000    150000.000000    1.000000"
      ]
     },
     "execution_count": 22,
     "metadata": {},
     "output_type": "execute_result"
    }
   ],
   "source": [
    "df.describe()"
   ]
  },
  {
   "cell_type": "markdown",
   "metadata": {},
   "source": [
    "Предварительно построим корреляционную матрицу для визуализации и выявления наиболее значимых факторов, которые необходимо будет включить в модель.\n",
    "Как можно определить изначально, большее влияние имеет переменная Age и EstimatedSalary."
   ]
  },
  {
   "cell_type": "code",
   "execution_count": 23,
   "metadata": {},
   "outputs": [
    {
     "data": {
      "image/png": "[encoded data removed]",
      "text/plain": [
       "<Figure size 864x648 with 2 Axes>"
      ]
     },
     "metadata": {},
     "output_type": "display_data"
    }
   ],
   "source": [
    "# Cheking correlations\n",
    "import seaborn as sns\n",
    "corrmat = df.corr()\n",
    "f, ax = plt.subplots(figsize=(12, 9))\n",
    "sns.heatmap(corrmat, annot=True)\n",
    "plt.show()"
   ]
  },
  {
   "cell_type": "markdown",
   "metadata": {},
   "source": [
    "# Logistic Regression"
   ]
  },
  {
   "cell_type": "markdown",
   "metadata": {},
   "source": [
    "Первым шагом для построения логистической регрессии нам необходимо произвести кодирование категориальных переменных. После выполнения представленной функции, записываем закодированные данные в датафрейм и выводим результат."
   ]
  },
  {
   "cell_type": "code",
   "execution_count": 24,
   "metadata": {},
   "outputs": [],
   "source": [
    "# Function Encoding\n",
    "def encoding_char(x):\n",
    "    char_var = list(set(x.columns) - set(x._get_numeric_data().columns))\n",
    "    for col_names in char_var:\n",
    "        f = pd.factorize(x[col_names])\n",
    "        x[col_names] = pd.factorize(x[col_names])[0]\n",
    "    return(x)"
   ]
  },
  {
   "cell_type": "code",
   "execution_count": 25,
   "metadata": {},
   "outputs": [],
   "source": [
    "# Encoding categorical data\n",
    "df = encoding_char(df)"
   ]
  },
  {
   "cell_type": "code",
   "execution_count": 26,
   "metadata": {},
   "outputs": [
    {
     "data": {
      "text/html": [
       "<div>\n",
       "<style scoped>\n",
       "    .dataframe tbody tr th:only-of-type {\n",
       "        vertical-align: middle;\n",
       "    }\n",
       "\n",
       "    .dataframe tbody tr th {\n",
       "        vertical-align: top;\n",
       "    }\n",
       "\n",
       "    .dataframe thead th {\n",
       "        text-align: right;\n",
       "    }\n",
       "</style>\n",
       "<table border=\"1\" class=\"dataframe\">\n",
       "  <thead>\n",
       "    <tr style=\"text-align: right;\">\n",
       "      <th></th>\n",
       "      <th>UserID</th>\n",
       "      <th>Gender</th>\n",
       "      <th>Age</th>\n",
       "      <th>EstimatedSalary</th>\n",
       "      <th>Purchased</th>\n",
       "    </tr>\n",
       "  </thead>\n",
       "  <tbody>\n",
       "    <tr>\n",
       "      <th>0</th>\n",
       "      <td>15624510.0</td>\n",
       "      <td>0</td>\n",
       "      <td>19.0</td>\n",
       "      <td>19000.0</td>\n",
       "      <td>0.0</td>\n",
       "    </tr>\n",
       "    <tr>\n",
       "      <th>1</th>\n",
       "      <td>15810944.0</td>\n",
       "      <td>0</td>\n",
       "      <td>35.0</td>\n",
       "      <td>20000.0</td>\n",
       "      <td>0.0</td>\n",
       "    </tr>\n",
       "    <tr>\n",
       "      <th>2</th>\n",
       "      <td>15668575.0</td>\n",
       "      <td>1</td>\n",
       "      <td>26.0</td>\n",
       "      <td>43000.0</td>\n",
       "      <td>0.0</td>\n",
       "    </tr>\n",
       "    <tr>\n",
       "      <th>3</th>\n",
       "      <td>15603246.0</td>\n",
       "      <td>1</td>\n",
       "      <td>27.0</td>\n",
       "      <td>57000.0</td>\n",
       "      <td>0.0</td>\n",
       "    </tr>\n",
       "    <tr>\n",
       "      <th>4</th>\n",
       "      <td>15804002.0</td>\n",
       "      <td>0</td>\n",
       "      <td>19.0</td>\n",
       "      <td>76000.0</td>\n",
       "      <td>0.0</td>\n",
       "    </tr>\n",
       "    <tr>\n",
       "      <th>...</th>\n",
       "      <td>...</td>\n",
       "      <td>...</td>\n",
       "      <td>...</td>\n",
       "      <td>...</td>\n",
       "      <td>...</td>\n",
       "    </tr>\n",
       "    <tr>\n",
       "      <th>395</th>\n",
       "      <td>15691863.0</td>\n",
       "      <td>1</td>\n",
       "      <td>46.0</td>\n",
       "      <td>41000.0</td>\n",
       "      <td>1.0</td>\n",
       "    </tr>\n",
       "    <tr>\n",
       "      <th>396</th>\n",
       "      <td>15706071.0</td>\n",
       "      <td>0</td>\n",
       "      <td>51.0</td>\n",
       "      <td>23000.0</td>\n",
       "      <td>1.0</td>\n",
       "    </tr>\n",
       "    <tr>\n",
       "      <th>397</th>\n",
       "      <td>15654296.0</td>\n",
       "      <td>1</td>\n",
       "      <td>50.0</td>\n",
       "      <td>20000.0</td>\n",
       "      <td>1.0</td>\n",
       "    </tr>\n",
       "    <tr>\n",
       "      <th>398</th>\n",
       "      <td>15755018.0</td>\n",
       "      <td>0</td>\n",
       "      <td>36.0</td>\n",
       "      <td>33000.0</td>\n",
       "      <td>0.0</td>\n",
       "    </tr>\n",
       "    <tr>\n",
       "      <th>399</th>\n",
       "      <td>15594041.0</td>\n",
       "      <td>1</td>\n",
       "      <td>49.0</td>\n",
       "      <td>36000.0</td>\n",
       "      <td>1.0</td>\n",
       "    </tr>\n",
       "  </tbody>\n",
       "</table>\n",
       "<p>400 rows × 5 columns</p>\n",
       "</div>"
      ],
      "text/plain": [
       "         UserID  Gender   Age  EstimatedSalary  Purchased\n",
       "0    15624510.0       0  19.0          19000.0        0.0\n",
       "1    15810944.0       0  35.0          20000.0        0.0\n",
       "2    15668575.0       1  26.0          43000.0        0.0\n",
       "3    15603246.0       1  27.0          57000.0        0.0\n",
       "4    15804002.0       0  19.0          76000.0        0.0\n",
       "..          ...     ...   ...              ...        ...\n",
       "395  15691863.0       1  46.0          41000.0        1.0\n",
       "396  15706071.0       0  51.0          23000.0        1.0\n",
       "397  15654296.0       1  50.0          20000.0        1.0\n",
       "398  15755018.0       0  36.0          33000.0        0.0\n",
       "399  15594041.0       1  49.0          36000.0        1.0\n",
       "\n",
       "[400 rows x 5 columns]"
      ]
     },
     "execution_count": 26,
     "metadata": {},
     "output_type": "execute_result"
    }
   ],
   "source": [
    "df"
   ]
  },
  {
   "cell_type": "markdown",
   "metadata": {},
   "source": [
    "Поделим выборку на обучающую и тестовую (20%), запишем разделенные данные."
   ]
  },
  {
   "cell_type": "code",
   "execution_count": 35,
   "metadata": {},
   "outputs": [],
   "source": [
    "# Splitting the dataset into the Training set and Test set\n",
    "X = df.iloc[:, :-1].values\n",
    "y = df.iloc[:, -1].values\n",
    "from sklearn.model_selection import train_test_split\n",
    "X_train, X_test, y_train, y_test = train_test_split(X, y, test_size=0.2, random_state=13)"
   ]
  },
  {
   "cell_type": "markdown",
   "metadata": {},
   "source": [
    "Произведем шкалирование данных, использя выборку train оценим параметры, затем преобразуем обучающую и тестовую выборки."
   ]
  },
  {
   "cell_type": "code",
   "execution_count": 36,
   "metadata": {},
   "outputs": [],
   "source": [
    "# Feature Scaling\n",
    "from sklearn.preprocessing import StandardScaler\n",
    "sc_X = StandardScaler().fit(X_train)\n",
    "X_train = sc_X.transform(X_train)\n",
    "X_test = sc_X.transform(X_test)"
   ]
  },
  {
   "cell_type": "markdown",
   "metadata": {},
   "source": [
    "Построим базовую модель и выведем по ней отчет. Как показывает статистика, значимыми являются переменнные 3 и 4,где P-value не привышает порог в 1 %."
   ]
  },
  {
   "cell_type": "code",
   "execution_count": 37,
   "metadata": {},
   "outputs": [
    {
     "name": "stdout",
     "output_type": "stream",
     "text": [
      "Optimization terminated successfully.\n",
      "         Current function value: 0.380721\n",
      "         Iterations 7\n",
      "                         Results: Logit\n",
      "=================================================================\n",
      "Model:              Logit            Pseudo R-squared: 0.425     \n",
      "Dependent Variable: y                AIC:              251.6615  \n",
      "Date:               2020-12-21 12:14 BIC:              266.7348  \n",
      "No. Observations:   320              Log-Likelihood:   -121.83   \n",
      "Df Model:           3                LL-Null:          -211.70   \n",
      "Df Residuals:       316              LLR p-value:      1.0042e-38\n",
      "Converged:          1.0000           Scale:            1.0000    \n",
      "No. Iterations:     7.0000                                       \n",
      "--------------------------------------------------------------------\n",
      "        Coef.     Std.Err.       z       P>|z|      [0.025    0.975]\n",
      "--------------------------------------------------------------------\n",
      "x1     -0.0549      0.1639    -0.3353    0.7374    -0.3761    0.2662\n",
      "x2     -0.1354      0.1612    -0.8399    0.4010    -0.4513    0.1805\n",
      "x3      2.3182      0.2884     8.0394    0.0000     1.7531    2.8834\n",
      "x4      1.4581      0.2283     6.3864    0.0000     1.0106    1.9056\n",
      "=================================================================\n",
      "\n"
     ]
    }
   ],
   "source": [
    "# Baseline model\n",
    "import statsmodels.api as sm\n",
    "lr = sm.Logit(y_train, X_train).fit()\n",
    "print(lr.summary2())"
   ]
  },
  {
   "cell_type": "markdown",
   "metadata": {},
   "source": [
    "Для убеждения  правильности отбора переменных проведем автоматический отбор."
   ]
  },
  {
   "cell_type": "code",
   "execution_count": 38,
   "metadata": {},
   "outputs": [
    {
     "name": "stdout",
     "output_type": "stream",
     "text": [
      "3\n",
      "[False  True  True  True]\n",
      "[2 1 1 1]\n"
     ]
    }
   ],
   "source": [
    "# Automatic Feature Selection\n",
    "from sklearn.feature_selection import RFECV\n",
    "from sklearn.linear_model import LogisticRegression\n",
    "estimator=LogisticRegression(random_state=123)\n",
    "selector=RFECV(estimator, step=1)\n",
    "selector=selector.fit(X_train, y_train)\n",
    "print(selector.n_features_)\n",
    "print(selector.support_)\n",
    "print(selector.ranking_)"
   ]
  },
  {
   "cell_type": "markdown",
   "metadata": {},
   "source": [
    "Выведем индексы отобранных переменных."
   ]
  },
  {
   "cell_type": "code",
   "execution_count": 39,
   "metadata": {},
   "outputs": [
    {
     "name": "stdout",
     "output_type": "stream",
     "text": [
      "[1, 2, 3]\n",
      "№\tIndex\tFeature\n",
      "0\t1\tGender\n",
      "1\t2\tAge\n",
      "2\t3\tEstimatedSalary\n"
     ]
    }
   ],
   "source": [
    "# Selected Features\n",
    "selected_columns=[]\n",
    "for i in range(len(X_train[0])):\n",
    "    if selector.support_[i]==1:\n",
    "        selected_columns.append(i)\n",
    "print(selected_columns)\n",
    "print('№\\tIndex\\tFeature')\n",
    "i=0\n",
    "for column in selected_columns:\n",
    "    print(str(i)+'\\t'+str(column)+'\\t'+str(df.columns[column]))\n",
    "    i=i+1"
   ]
  },
  {
   "cell_type": "markdown",
   "metadata": {},
   "source": [
    "Преобразуем обучающую и тестовую выборки, оставив в ней только значимые переменные."
   ]
  },
  {
   "cell_type": "code",
   "execution_count": 41,
   "metadata": {},
   "outputs": [],
   "source": [
    "# p-value < 3% Features\n",
    "X_train = X_train[:,[1,2]]\n",
    "X_test = X_test[:,[1,2]]"
   ]
  },
  {
   "cell_type": "markdown",
   "metadata": {},
   "source": [
    "Обучим модель логистическй регрессии на 2 переменных."
   ]
  },
  {
   "cell_type": "code",
   "execution_count": 42,
   "metadata": {},
   "outputs": [],
   "source": [
    "# Fitting Logistic Regression to the Training set\n",
    "from sklearn.linear_model import LogisticRegression\n",
    "lr = LogisticRegression(random_state = 13).fit(X_train, y_train)"
   ]
  },
  {
   "cell_type": "markdown",
   "metadata": {},
   "source": [
    "Проведем прогноз на тестовой выборке и оценим качетво модели. Уровень качества высокий, 85% объектов распознаны верно."
   ]
  },
  {
   "cell_type": "code",
   "execution_count": 43,
   "metadata": {},
   "outputs": [
    {
     "data": {
      "text/plain": [
       "0.85"
      ]
     },
     "execution_count": 43,
     "metadata": {},
     "output_type": "execute_result"
    }
   ],
   "source": [
    "# Predicting the Test set results\n",
    "y_pred = lr.predict(X_test)\n",
    "lr.score(X_test,y_test)"
   ]
  },
  {
   "cell_type": "markdown",
   "metadata": {},
   "source": [
    "Выведем таблицу сопряженности, которая показывает, что 5 позитивных объектов распознаны как негативные, а 7\n",
    "негативных определены как позитивные."
   ]
  },
  {
   "cell_type": "code",
   "execution_count": 44,
   "metadata": {},
   "outputs": [
    {
     "name": "stdout",
     "output_type": "stream",
     "text": [
      "[[50  7]\n",
      " [ 5 18]]\n"
     ]
    }
   ],
   "source": [
    "# Making the Confusion Matrix\n",
    "from sklearn.metrics import confusion_matrix\n",
    "cm = confusion_matrix(y_test, y_pred)\n",
    "print(cm)"
   ]
  },
  {
   "cell_type": "markdown",
   "metadata": {},
   "source": [
    "Произведем расчет доли ошибки, чувствителности и специфичности модели."
   ]
  },
  {
   "cell_type": "code",
   "execution_count": 45,
   "metadata": {},
   "outputs": [
    {
     "data": {
      "text/plain": [
       "0.15"
      ]
     },
     "execution_count": 45,
     "metadata": {},
     "output_type": "execute_result"
    }
   ],
   "source": [
    "Error_rate = (5+7)/(80)\n",
    "Error_rate"
   ]
  },
  {
   "cell_type": "code",
   "execution_count": 46,
   "metadata": {},
   "outputs": [
    {
     "data": {
      "text/plain": [
       "0.782608695652174"
      ]
     },
     "execution_count": 46,
     "metadata": {},
     "output_type": "execute_result"
    }
   ],
   "source": [
    "Se = 18/(18+5)\n",
    "Se"
   ]
  },
  {
   "cell_type": "code",
   "execution_count": 47,
   "metadata": {},
   "outputs": [
    {
     "data": {
      "text/plain": [
       "0.8771929824561403"
      ]
     },
     "execution_count": 47,
     "metadata": {},
     "output_type": "execute_result"
    }
   ],
   "source": [
    "Sp = 50/(50+7)\n",
    "Sp"
   ]
  },
  {
   "cell_type": "markdown",
   "metadata": {},
   "source": [
    "Итак, можно увидеть, что в модели логистической регрессии чувствительность составляет 78%, специфичность 87%.Это говорит, что моделб лучше определяет истинно негативные слачаи.\n",
    "Доля ошибки = 15%, точность удовлетворительна = 85%.\n",
    "Это наш базовый уровень для построения НС."
   ]
  },
  {
   "cell_type": "markdown",
   "metadata": {},
   "source": [
    "# Classification Neural Network"
   ]
  },
  {
   "cell_type": "markdown",
   "metadata": {},
   "source": [
    "Подключим библиотеки, необходимые для работы с нейронными сетями."
   ]
  },
  {
   "cell_type": "code",
   "execution_count": 48,
   "metadata": {},
   "outputs": [
    {
     "name": "stderr",
     "output_type": "stream",
     "text": [
      "Using TensorFlow backend.\n"
     ]
    }
   ],
   "source": [
    "# Install Tensorflow\n",
    "# Install Keras\n",
    "# Importing the Keras libraries and packages\n",
    "import keras\n",
    "from keras.models import Sequential\n",
    "from keras.layers import Dense"
   ]
  },
  {
   "cell_type": "markdown",
   "metadata": {},
   "source": [
    "Построим нейронную сеть прямой передачи сигнала: \n",
    "Так как мы имеем дело с моделью классификации, то необходимо создавать сужающую структуру. Поэтому т.к. мною были выбраны 2 параметра классификации, но та входном слое НС будем иметь 2 нейронов, а на первом слое возьмем количество меньшее, равное 1. используем функцию активации \"relu\".\n",
    "На втором слое возьмем 1 нейрон, так как мы имеем всего два класса (число выходов в начем случае = 2-1). Будем использовать сигмоидальную функцию активации, так как она изменяется в диапазоне от 0 до 1, что соответствует нашей эндогенной переменной.\n",
    "Стоит отметить, что такие настройки НС были окончательно взяты после ряда подборов значений, и изменений точности модели."
   ]
  },
  {
   "cell_type": "code",
   "execution_count": 49,
   "metadata": {},
   "outputs": [
    {
     "name": "stderr",
     "output_type": "stream",
     "text": [
      "C:\\Users\\User\\anaconda3\\envs\\tensorflow_env\\lib\\site-packages\\ipykernel_launcher.py:5: UserWarning: Update your `Dense` call to the Keras 2 API: `Dense(activation=\"relu\", input_dim=2, units=1, kernel_initializer=\"uniform\")`\n",
      "  \"\"\"\n",
      "C:\\Users\\User\\anaconda3\\envs\\tensorflow_env\\lib\\site-packages\\ipykernel_launcher.py:8: UserWarning: Update your `Dense` call to the Keras 2 API: `Dense(activation=\"sigmoid\", units=1, kernel_initializer=\"uniform\")`\n",
      "  \n"
     ]
    }
   ],
   "source": [
    "# Initialising the ANN\n",
    "cnn = Sequential()\n",
    "\n",
    "# Adding the input layer and the first hidden layer\n",
    "cnn.add(Dense(output_dim = 1, init = 'uniform', activation = 'relu', input_dim = 2))\n",
    "\n",
    "# Adding the output layer\n",
    "cnn.add(Dense(output_dim = 1, init = 'uniform', activation = 'sigmoid'))\n",
    "\n",
    "# Compiling the ANN\n",
    "cnn.compile(optimizer = 'adam', loss = 'binary_crossentropy', metrics = ['accuracy'])"
   ]
  },
  {
   "cell_type": "markdown",
   "metadata": {},
   "source": [
    "Обучаем модель партиями по 8 объектов в течении 100 эпох."
   ]
  },
  {
   "cell_type": "code",
   "execution_count": 50,
   "metadata": {},
   "outputs": [
    {
     "name": "stderr",
     "output_type": "stream",
     "text": [
      "C:\\Users\\User\\anaconda3\\envs\\tensorflow_env\\lib\\site-packages\\ipykernel_launcher.py:2: UserWarning: The `nb_epoch` argument in `fit` has been renamed `epochs`.\n",
      "  \n"
     ]
    },
    {
     "name": "stdout",
     "output_type": "stream",
     "text": [
      "Train on 320 samples, validate on 80 samples\n",
      "Epoch 1/100\n",
      "320/320 [==============================] - 0s 1ms/step - loss: 0.6914 - accuracy: 0.6250 - val_loss: 0.6877 - val_accuracy: 0.7125\n",
      "Epoch 2/100\n",
      "320/320 [==============================] - 0s 334us/step - loss: 0.6874 - accuracy: 0.6250 - val_loss: 0.6797 - val_accuracy: 0.7125\n",
      "Epoch 3/100\n",
      "320/320 [==============================] - 0s 331us/step - loss: 0.6816 - accuracy: 0.6250 - val_loss: 0.6703 - val_accuracy: 0.7125\n",
      "Epoch 4/100\n",
      "320/320 [==============================] - 0s 300us/step - loss: 0.6739 - accuracy: 0.6250 - val_loss: 0.6583 - val_accuracy: 0.7125\n",
      "Epoch 5/100\n",
      "320/320 [==============================] - 0s 409us/step - loss: 0.6647 - accuracy: 0.6250 - val_loss: 0.6439 - val_accuracy: 0.7125\n",
      "Epoch 6/100\n",
      "320/320 [==============================] - 0s 341us/step - loss: 0.6545 - accuracy: 0.6250 - val_loss: 0.6281 - val_accuracy: 0.7125\n",
      "Epoch 7/100\n",
      "320/320 [==============================] - 0s 334us/step - loss: 0.6435 - accuracy: 0.6250 - val_loss: 0.6126 - val_accuracy: 0.7125\n",
      "Epoch 8/100\n",
      "320/320 [==============================] - 0s 334us/step - loss: 0.6325 - accuracy: 0.6250 - val_loss: 0.5977 - val_accuracy: 0.7125\n",
      "Epoch 9/100\n",
      "320/320 [==============================] - 0s 319us/step - loss: 0.6219 - accuracy: 0.6250 - val_loss: 0.5813 - val_accuracy: 0.7125\n",
      "Epoch 10/100\n",
      "320/320 [==============================] - 0s 441us/step - loss: 0.6111 - accuracy: 0.6250 - val_loss: 0.5671 - val_accuracy: 0.7125\n",
      "Epoch 11/100\n",
      "320/320 [==============================] - 0s 416us/step - loss: 0.6013 - accuracy: 0.6250 - val_loss: 0.5529 - val_accuracy: 0.7125\n",
      "Epoch 12/100\n",
      "320/320 [==============================] - 0s 334us/step - loss: 0.5920 - accuracy: 0.6250 - val_loss: 0.5400 - val_accuracy: 0.7125\n",
      "Epoch 13/100\n",
      "320/320 [==============================] - 0s 350us/step - loss: 0.5835 - accuracy: 0.6250 - val_loss: 0.5284 - val_accuracy: 0.7125\n",
      "Epoch 14/100\n",
      "320/320 [==============================] - 0s 334us/step - loss: 0.5759 - accuracy: 0.6250 - val_loss: 0.5173 - val_accuracy: 0.7125\n",
      "Epoch 15/100\n",
      "320/320 [==============================] - 0s 294us/step - loss: 0.5689 - accuracy: 0.6250 - val_loss: 0.5070 - val_accuracy: 0.7125\n",
      "Epoch 16/100\n",
      "320/320 [==============================] - 0s 356us/step - loss: 0.5625 - accuracy: 0.6250 - val_loss: 0.4988 - val_accuracy: 0.7125\n",
      "Epoch 17/100\n",
      "320/320 [==============================] - 0s 306us/step - loss: 0.5568 - accuracy: 0.6250 - val_loss: 0.4906 - val_accuracy: 0.7125\n",
      "Epoch 18/100\n",
      "320/320 [==============================] - 0s 303us/step - loss: 0.5516 - accuracy: 0.6250 - val_loss: 0.4832 - val_accuracy: 0.7125\n",
      "Epoch 19/100\n",
      "320/320 [==============================] - 0s 391us/step - loss: 0.5468 - accuracy: 0.6250 - val_loss: 0.4761 - val_accuracy: 0.7125\n",
      "Epoch 20/100\n",
      "320/320 [==============================] - 0s 375us/step - loss: 0.5424 - accuracy: 0.6250 - val_loss: 0.4709 - val_accuracy: 0.7125\n",
      "Epoch 21/100\n",
      "320/320 [==============================] - 0s 412us/step - loss: 0.5385 - accuracy: 0.6250 - val_loss: 0.4662 - val_accuracy: 0.7125\n",
      "Epoch 22/100\n",
      "320/320 [==============================] - 0s 312us/step - loss: 0.5348 - accuracy: 0.6250 - val_loss: 0.4612 - val_accuracy: 0.7125\n",
      "Epoch 23/100\n",
      "320/320 [==============================] - 0s 316us/step - loss: 0.5315 - accuracy: 0.6250 - val_loss: 0.4566 - val_accuracy: 0.7125\n",
      "Epoch 24/100\n",
      "320/320 [==============================] - 0s 312us/step - loss: 0.5283 - accuracy: 0.6250 - val_loss: 0.4524 - val_accuracy: 0.7125\n",
      "Epoch 25/100\n",
      "320/320 [==============================] - 0s 303us/step - loss: 0.5254 - accuracy: 0.6250 - val_loss: 0.4489 - val_accuracy: 0.7125\n",
      "Epoch 26/100\n",
      "320/320 [==============================] - 0s 334us/step - loss: 0.5227 - accuracy: 0.6250 - val_loss: 0.4458 - val_accuracy: 0.7125\n",
      "Epoch 27/100\n",
      "320/320 [==============================] - 0s 353us/step - loss: 0.5199 - accuracy: 0.6250 - val_loss: 0.4421 - val_accuracy: 0.7125\n",
      "Epoch 28/100\n",
      "320/320 [==============================] - 0s 366us/step - loss: 0.5175 - accuracy: 0.8031 - val_loss: 0.4388 - val_accuracy: 0.8750\n",
      "Epoch 29/100\n",
      "320/320 [==============================] - 0s 325us/step - loss: 0.5150 - accuracy: 0.8188 - val_loss: 0.4366 - val_accuracy: 0.8750\n",
      "Epoch 30/100\n",
      "320/320 [==============================] - 0s 328us/step - loss: 0.5129 - accuracy: 0.8188 - val_loss: 0.4339 - val_accuracy: 0.8750\n",
      "Epoch 31/100\n",
      "320/320 [==============================] - 0s 309us/step - loss: 0.5111 - accuracy: 0.8188 - val_loss: 0.4303 - val_accuracy: 0.8750\n",
      "Epoch 32/100\n",
      "320/320 [==============================] - 0s 378us/step - loss: 0.5086 - accuracy: 0.8188 - val_loss: 0.4290 - val_accuracy: 0.8750\n",
      "Epoch 33/100\n",
      "320/320 [==============================] - 0s 381us/step - loss: 0.5068 - accuracy: 0.8281 - val_loss: 0.4269 - val_accuracy: 0.8625\n",
      "Epoch 34/100\n",
      "320/320 [==============================] - 0s 362us/step - loss: 0.5050 - accuracy: 0.8313 - val_loss: 0.4254 - val_accuracy: 0.8500\n",
      "Epoch 35/100\n",
      "320/320 [==============================] - 0s 384us/step - loss: 0.5029 - accuracy: 0.8250 - val_loss: 0.4232 - val_accuracy: 0.8500\n",
      "Epoch 36/100\n",
      "320/320 [==============================] - 0s 372us/step - loss: 0.5012 - accuracy: 0.8250 - val_loss: 0.4216 - val_accuracy: 0.8500\n",
      "Epoch 37/100\n",
      "320/320 [==============================] - 0s 319us/step - loss: 0.4996 - accuracy: 0.8250 - val_loss: 0.4202 - val_accuracy: 0.8500\n",
      "Epoch 38/100\n",
      "320/320 [==============================] - 0s 278us/step - loss: 0.4980 - accuracy: 0.8250 - val_loss: 0.4180 - val_accuracy: 0.8500\n",
      "Epoch 39/100\n",
      "320/320 [==============================] - 0s 297us/step - loss: 0.4964 - accuracy: 0.8250 - val_loss: 0.4171 - val_accuracy: 0.8500\n",
      "Epoch 40/100\n",
      "320/320 [==============================] - 0s 312us/step - loss: 0.4949 - accuracy: 0.8250 - val_loss: 0.4162 - val_accuracy: 0.8500\n",
      "Epoch 41/100\n",
      "320/320 [==============================] - 0s 309us/step - loss: 0.4934 - accuracy: 0.8250 - val_loss: 0.4145 - val_accuracy: 0.8500\n",
      "Epoch 42/100\n",
      "320/320 [==============================] - 0s 303us/step - loss: 0.4919 - accuracy: 0.8250 - val_loss: 0.4129 - val_accuracy: 0.8500\n",
      "Epoch 43/100\n",
      "320/320 [==============================] - 0s 281us/step - loss: 0.4905 - accuracy: 0.8313 - val_loss: 0.4115 - val_accuracy: 0.8625\n",
      "Epoch 44/100\n",
      "320/320 [==============================] - 0s 312us/step - loss: 0.4894 - accuracy: 0.8313 - val_loss: 0.4109 - val_accuracy: 0.8625\n",
      "Epoch 45/100\n",
      "320/320 [==============================] - 0s 347us/step - loss: 0.4879 - accuracy: 0.8313 - val_loss: 0.4095 - val_accuracy: 0.8625\n",
      "Epoch 46/100\n",
      "320/320 [==============================] - 0s 350us/step - loss: 0.4868 - accuracy: 0.8313 - val_loss: 0.4084 - val_accuracy: 0.8625\n",
      "Epoch 47/100\n",
      "320/320 [==============================] - 0s 400us/step - loss: 0.4857 - accuracy: 0.8313 - val_loss: 0.4075 - val_accuracy: 0.8625\n",
      "Epoch 48/100\n",
      "320/320 [==============================] - 0s 391us/step - loss: 0.4843 - accuracy: 0.8313 - val_loss: 0.4063 - val_accuracy: 0.8625\n",
      "Epoch 49/100\n",
      "320/320 [==============================] - 0s 387us/step - loss: 0.4833 - accuracy: 0.8313 - val_loss: 0.4055 - val_accuracy: 0.8625\n",
      "Epoch 50/100\n",
      "320/320 [==============================] - 0s 344us/step - loss: 0.4823 - accuracy: 0.8313 - val_loss: 0.4040 - val_accuracy: 0.8625\n",
      "Epoch 51/100\n",
      "320/320 [==============================] - 0s 309us/step - loss: 0.4811 - accuracy: 0.8313 - val_loss: 0.4031 - val_accuracy: 0.8625\n",
      "Epoch 52/100\n",
      "320/320 [==============================] - 0s 331us/step - loss: 0.4801 - accuracy: 0.8313 - val_loss: 0.4023 - val_accuracy: 0.8625\n",
      "Epoch 53/100\n",
      "320/320 [==============================] - 0s 319us/step - loss: 0.4792 - accuracy: 0.8313 - val_loss: 0.4014 - val_accuracy: 0.8625\n",
      "Epoch 54/100\n",
      "320/320 [==============================] - 0s 316us/step - loss: 0.4782 - accuracy: 0.8313 - val_loss: 0.4007 - val_accuracy: 0.8625\n",
      "Epoch 55/100\n",
      "320/320 [==============================] - 0s 297us/step - loss: 0.4775 - accuracy: 0.8281 - val_loss: 0.4000 - val_accuracy: 0.8750\n",
      "Epoch 56/100\n",
      "320/320 [==============================] - 0s 347us/step - loss: 0.4766 - accuracy: 0.8313 - val_loss: 0.3995 - val_accuracy: 0.8750\n"
     ]
    },
    {
     "name": "stdout",
     "output_type": "stream",
     "text": [
      "Epoch 57/100\n",
      "320/320 [==============================] - 0s 316us/step - loss: 0.4755 - accuracy: 0.8313 - val_loss: 0.3988 - val_accuracy: 0.8750\n",
      "Epoch 58/100\n",
      "320/320 [==============================] - 0s 297us/step - loss: 0.4748 - accuracy: 0.8313 - val_loss: 0.3977 - val_accuracy: 0.8750\n",
      "Epoch 59/100\n",
      "320/320 [==============================] - 0s 434us/step - loss: 0.4741 - accuracy: 0.8313 - val_loss: 0.3981 - val_accuracy: 0.8750\n",
      "Epoch 60/100\n",
      "320/320 [==============================] - 0s 359us/step - loss: 0.4732 - accuracy: 0.8313 - val_loss: 0.3975 - val_accuracy: 0.8750\n",
      "Epoch 61/100\n",
      "320/320 [==============================] - 0s 281us/step - loss: 0.4724 - accuracy: 0.8313 - val_loss: 0.3963 - val_accuracy: 0.8750\n",
      "Epoch 62/100\n",
      "320/320 [==============================] - 0s 322us/step - loss: 0.4717 - accuracy: 0.8313 - val_loss: 0.3963 - val_accuracy: 0.8750\n",
      "Epoch 63/100\n",
      "320/320 [==============================] - 0s 322us/step - loss: 0.4711 - accuracy: 0.8313 - val_loss: 0.3947 - val_accuracy: 0.8750\n",
      "Epoch 64/100\n",
      "320/320 [==============================] - 0s 325us/step - loss: 0.4703 - accuracy: 0.8313 - val_loss: 0.3946 - val_accuracy: 0.8750\n",
      "Epoch 65/100\n",
      "320/320 [==============================] - 0s 303us/step - loss: 0.4696 - accuracy: 0.8313 - val_loss: 0.3946 - val_accuracy: 0.8750\n",
      "Epoch 66/100\n",
      "320/320 [==============================] - 0s 272us/step - loss: 0.4690 - accuracy: 0.8313 - val_loss: 0.3945 - val_accuracy: 0.8750\n",
      "Epoch 67/100\n",
      "320/320 [==============================] - 0s 312us/step - loss: 0.4682 - accuracy: 0.8313 - val_loss: 0.3934 - val_accuracy: 0.8750\n",
      "Epoch 68/100\n",
      "320/320 [==============================] - 0s 319us/step - loss: 0.4678 - accuracy: 0.8313 - val_loss: 0.3929 - val_accuracy: 0.8750\n",
      "Epoch 69/100\n",
      "320/320 [==============================] - 0s 319us/step - loss: 0.4671 - accuracy: 0.8313 - val_loss: 0.3921 - val_accuracy: 0.8750\n",
      "Epoch 70/100\n",
      "320/320 [==============================] - 0s 306us/step - loss: 0.4666 - accuracy: 0.8313 - val_loss: 0.3917 - val_accuracy: 0.8750\n",
      "Epoch 71/100\n",
      "320/320 [==============================] - 0s 303us/step - loss: 0.4659 - accuracy: 0.8313 - val_loss: 0.3918 - val_accuracy: 0.8750\n",
      "Epoch 72/100\n",
      "320/320 [==============================] - 0s 372us/step - loss: 0.4655 - accuracy: 0.8313 - val_loss: 0.3910 - val_accuracy: 0.8750\n",
      "Epoch 73/100\n",
      "320/320 [==============================] - 0s 316us/step - loss: 0.4650 - accuracy: 0.8313 - val_loss: 0.3912 - val_accuracy: 0.8750\n",
      "Epoch 74/100\n",
      "320/320 [==============================] - 0s 303us/step - loss: 0.4644 - accuracy: 0.8313 - val_loss: 0.3901 - val_accuracy: 0.8750\n",
      "Epoch 75/100\n",
      "320/320 [==============================] - 0s 297us/step - loss: 0.4640 - accuracy: 0.8313 - val_loss: 0.3893 - val_accuracy: 0.8750\n",
      "Epoch 76/100\n",
      "320/320 [==============================] - 0s 359us/step - loss: 0.4632 - accuracy: 0.8313 - val_loss: 0.3895 - val_accuracy: 0.8750\n",
      "Epoch 77/100\n",
      "320/320 [==============================] - 0s 359us/step - loss: 0.4628 - accuracy: 0.8313 - val_loss: 0.3891 - val_accuracy: 0.8750\n",
      "Epoch 78/100\n",
      "320/320 [==============================] - 0s 403us/step - loss: 0.4623 - accuracy: 0.8313 - val_loss: 0.3886 - val_accuracy: 0.8750\n",
      "Epoch 79/100\n",
      "320/320 [==============================] - 0s 412us/step - loss: 0.4618 - accuracy: 0.8313 - val_loss: 0.3883 - val_accuracy: 0.8750\n",
      "Epoch 80/100\n",
      "320/320 [==============================] - 0s 484us/step - loss: 0.4614 - accuracy: 0.8313 - val_loss: 0.3881 - val_accuracy: 0.8750\n",
      "Epoch 81/100\n",
      "320/320 [==============================] - 0s 475us/step - loss: 0.4609 - accuracy: 0.8281 - val_loss: 0.3872 - val_accuracy: 0.8750\n",
      "Epoch 82/100\n",
      "320/320 [==============================] - 0s 565us/step - loss: 0.4604 - accuracy: 0.8250 - val_loss: 0.3873 - val_accuracy: 0.8625\n",
      "Epoch 83/100\n",
      "320/320 [==============================] - 0s 512us/step - loss: 0.4599 - accuracy: 0.8250 - val_loss: 0.3868 - val_accuracy: 0.8750\n",
      "Epoch 84/100\n",
      "320/320 [==============================] - 0s 509us/step - loss: 0.4595 - accuracy: 0.8281 - val_loss: 0.3863 - val_accuracy: 0.8625\n",
      "Epoch 85/100\n",
      "320/320 [==============================] - 0s 444us/step - loss: 0.4592 - accuracy: 0.8344 - val_loss: 0.3863 - val_accuracy: 0.8625\n",
      "Epoch 86/100\n",
      "320/320 [==============================] - 0s 497us/step - loss: 0.4587 - accuracy: 0.8250 - val_loss: 0.3863 - val_accuracy: 0.8625\n",
      "Epoch 87/100\n",
      "320/320 [==============================] - 0s 434us/step - loss: 0.4582 - accuracy: 0.8250 - val_loss: 0.3852 - val_accuracy: 0.8625\n",
      "Epoch 88/100\n",
      "320/320 [==============================] - 0s 487us/step - loss: 0.4579 - accuracy: 0.8250 - val_loss: 0.3848 - val_accuracy: 0.8625\n",
      "Epoch 89/100\n",
      "320/320 [==============================] - 0s 494us/step - loss: 0.4575 - accuracy: 0.8250 - val_loss: 0.3849 - val_accuracy: 0.8625\n",
      "Epoch 90/100\n",
      "320/320 [==============================] - 0s 437us/step - loss: 0.4571 - accuracy: 0.8250 - val_loss: 0.3843 - val_accuracy: 0.8625\n",
      "Epoch 91/100\n",
      "320/320 [==============================] - 0s 372us/step - loss: 0.4568 - accuracy: 0.8250 - val_loss: 0.3840 - val_accuracy: 0.8625\n",
      "Epoch 92/100\n",
      "320/320 [==============================] - 0s 503us/step - loss: 0.4565 - accuracy: 0.8250 - val_loss: 0.3838 - val_accuracy: 0.8625\n",
      "Epoch 93/100\n",
      "320/320 [==============================] - 0s 434us/step - loss: 0.4561 - accuracy: 0.8250 - val_loss: 0.3831 - val_accuracy: 0.8625\n",
      "Epoch 94/100\n",
      "320/320 [==============================] - 0s 475us/step - loss: 0.4557 - accuracy: 0.8281 - val_loss: 0.3831 - val_accuracy: 0.8500\n",
      "Epoch 95/100\n",
      "320/320 [==============================] - 0s 412us/step - loss: 0.4556 - accuracy: 0.8281 - val_loss: 0.3832 - val_accuracy: 0.8500\n",
      "Epoch 96/100\n",
      "320/320 [==============================] - 0s 453us/step - loss: 0.4551 - accuracy: 0.8281 - val_loss: 0.3822 - val_accuracy: 0.8500\n",
      "Epoch 97/100\n",
      "320/320 [==============================] - 0s 466us/step - loss: 0.4548 - accuracy: 0.8281 - val_loss: 0.3826 - val_accuracy: 0.8500\n",
      "Epoch 98/100\n",
      "320/320 [==============================] - 0s 419us/step - loss: 0.4547 - accuracy: 0.8281 - val_loss: 0.3820 - val_accuracy: 0.8500\n",
      "Epoch 99/100\n",
      "320/320 [==============================] - 0s 453us/step - loss: 0.4543 - accuracy: 0.8281 - val_loss: 0.3822 - val_accuracy: 0.8500\n",
      "Epoch 100/100\n",
      "320/320 [==============================] - 0s 444us/step - loss: 0.4539 - accuracy: 0.8281 - val_loss: 0.3815 - val_accuracy: 0.8500\n"
     ]
    }
   ],
   "source": [
    "# Fitting the ANN to the Training set\n",
    "history = cnn.fit(X_train, y_train, batch_size = 8, nb_epoch = 100, validation_data=(X_test, y_test))"
   ]
  },
  {
   "cell_type": "markdown",
   "metadata": {},
   "source": [
    "Построим График, который демонстрирует уменьшение потерь по выборкам."
   ]
  },
  {
   "cell_type": "code",
   "execution_count": 51,
   "metadata": {},
   "outputs": [
    {
     "data": {
      "image/png": "[encoded data removed]",
      "text/plain": [
       "<Figure size 432x288 with 1 Axes>"
      ]
     },
     "metadata": {},
     "output_type": "display_data"
    }
   ],
   "source": [
    "# Plotting loss & accuracy\n",
    "plt.figure()\n",
    "plt.plot(history.history['loss'])\n",
    "plt.plot(history.history['val_loss'])\n",
    "plt.title('model loss')\n",
    "plt.ylabel('loss')\n",
    "plt.xlabel('epoch')\n",
    "plt.legend(['train', 'test'], loc='best')\n",
    "plt.show()"
   ]
  },
  {
   "cell_type": "markdown",
   "metadata": {},
   "source": [
    "Произведем прогноз на тестовой выборке, задав порог = 0,51 (подобран в ходе экспериментов)"
   ]
  },
  {
   "cell_type": "code",
   "execution_count": 76,
   "metadata": {},
   "outputs": [],
   "source": [
    "# Predicting the Test set results\n",
    "y_pred = cnn.predict(X_test)\n",
    "y_pred = (y_pred > 0.51)"
   ]
  },
  {
   "cell_type": "markdown",
   "metadata": {},
   "source": [
    "Выведем таблицу сопряженности, которая показывает, что 6 позитивных объектов распознаны как негативные, а 4\n",
    "негативных определены как позитивные."
   ]
  },
  {
   "cell_type": "code",
   "execution_count": 77,
   "metadata": {},
   "outputs": [
    {
     "name": "stdout",
     "output_type": "stream",
     "text": [
      "[[53  4]\n",
      " [ 6 17]]\n"
     ]
    }
   ],
   "source": [
    "# Making the Confusion Matrix\n",
    "from sklearn.metrics import confusion_matrix\n",
    "cm = confusion_matrix(y_test, y_pred)\n",
    "print(cm)"
   ]
  },
  {
   "cell_type": "markdown",
   "metadata": {},
   "source": [
    "Произведем расчет доли ошибки, чувствителности и специфичности модели."
   ]
  },
  {
   "cell_type": "code",
   "execution_count": 65,
   "metadata": {},
   "outputs": [
    {
     "data": {
      "text/plain": [
       "0.875"
      ]
     },
     "execution_count": 65,
     "metadata": {},
     "output_type": "execute_result"
    }
   ],
   "source": [
    "Accurary_rate = (53+17)/(80)\n",
    "Accurary_rate"
   ]
  },
  {
   "cell_type": "code",
   "execution_count": 78,
   "metadata": {},
   "outputs": [
    {
     "data": {
      "text/plain": [
       "0.125"
      ]
     },
     "execution_count": 78,
     "metadata": {},
     "output_type": "execute_result"
    }
   ],
   "source": [
    "Error_rate = (6+4)/(80)\n",
    "Error_rate"
   ]
  },
  {
   "cell_type": "code",
   "execution_count": 79,
   "metadata": {},
   "outputs": [
    {
     "data": {
      "text/plain": [
       "0.7391304347826086"
      ]
     },
     "execution_count": 79,
     "metadata": {},
     "output_type": "execute_result"
    }
   ],
   "source": [
    "Se = 17/(17+6)\n",
    "Se"
   ]
  },
  {
   "cell_type": "code",
   "execution_count": 80,
   "metadata": {},
   "outputs": [
    {
     "data": {
      "text/plain": [
       "0.9298245614035088"
      ]
     },
     "execution_count": 80,
     "metadata": {},
     "output_type": "execute_result"
    }
   ],
   "source": [
    "Sp = 53/(53+4)\n",
    "Sp"
   ]
  },
  {
   "cell_type": "markdown",
   "metadata": {},
   "source": [
    "По сравнению с простой логистической регрессией(85%) модель НС имеет более высокую тосность = 87,5%. Доля ошибок снизилась с 15 % до 12,5%.\n",
    "При этом снизилась чувстивельность с 78% до 73%, а специфичность возрасла с 87,7% до 92%. "
   ]
  },
  {
   "cell_type": "markdown",
   "metadata": {},
   "source": [
    "В итоге получаем результат результат, который несколько лучше базовой модели."
   ]
  }
 ],
 "metadata": {
  "kernelspec": {
   "display_name": "Python 3",
   "language": "python",
   "name": "python3"
  },
  "language_info": {
   "codemirror_mode": {
    "name": "ipython",
    "version": 3
   },
   "file_extension": ".py",
   "mimetype": "text/x-python",
   "name": "python",
   "nbconvert_exporter": "python",
   "pygments_lexer": "ipython3",
   "version": "3.6.12"
  }
 },
 "nbformat": 4,
 "nbformat_minor": 4
}
